{
 "cells": [
  {
   "cell_type": "markdown",
   "metadata": {
    "nbpresent": {
     "id": "0482f71e-da4f-4e9a-b852-86473958b261"
    }
   },
   "source": [
    "**EELs project: Phase 3**\n",
    "\n",
    "Determine redshift ranges that lead to an improved BAO signal and declare those sets of EELs our “Platinum sample”.  \n",
    "\n",
    "As a start, we look at whether EELs provide shot-noise-limited measurements of galaxy clustering or not."
   ]
  },
  {
   "cell_type": "code",
   "execution_count": 1,
   "metadata": {
    "nbpresent": {
     "id": "56dc481d-24cd-4edb-a8cf-4d1a07fb89f5"
    }
   },
   "outputs": [],
   "source": [
    "import numpy as np\n",
    "import matplotlib.pyplot as plt\n",
    "%matplotlib inline\n",
    "import pandas as pd\n",
    "import os\n",
    "from collections import OrderedDict"
   ]
  },
  {
   "cell_type": "markdown",
   "metadata": {},
   "source": [
    "**Theory power spectra from Hu Zhan**\n",
    "\n",
    "$C_\\ell$ and surface number density predictions for five redshift bins (0.15<z<0.37, 0.37<z<0.66, 0.66<z<1.0, 1.0<z<1.5, 1.5<z<2.0) for three magnitude cuts (r<25.6, 26.8, 27.5). These are different than the mag cuts used in the paper (r<24.0, 25.6, 27.5)."
   ]
  },
  {
   "cell_type": "markdown",
   "metadata": {},
   "source": [
    "**Mag cut to look at?**\n",
    "\n",
    "Assuming average galaxy colors, u - g = g - r = r - i = i - z = 0.4, we have i = r-0.4 => r = 0.8+z\n",
    "\n",
    "Since we have z=26.2 (based on Lana's poster), we should look around r=27.0.\n",
    "\n",
    "We have data for r<26.8, 27.5. Lets look at 26.8 for now."
   ]
  },
  {
   "cell_type": "markdown",
   "metadata": {},
   "source": [
    "**Redshift bins to look at?**\n",
    "\n",
    "Based on Lana's poster, we have EELs at refshift 1.33, 0.74, 0.33\n",
    "\n",
    "So, using Hu's bins, we can consider: 0.15<z<0.37, 0.66<z<1.0, 1.0<z<1.5"
   ]
  },
  {
   "cell_type": "code",
   "execution_count": 2,
   "metadata": {},
   "outputs": [
    {
     "data": {
      "text/plain": [
       "['cls015-200z_r27.5.txt',\n",
       " 'cls015-200z_r26.8.bins',\n",
       " 'cls015-200z_r27.5.bins',\n",
       " 'cls015-200z_r25.6.bins',\n",
       " 'cls015-200z_r25.6.txt',\n",
       " 'cls015-200z_r26.8.txt']"
      ]
     },
     "execution_count": 2,
     "metadata": {},
     "output_type": "execute_result"
    }
   ],
   "source": [
    "bao_data_path = '/global/homes/a/awan/LSST/mock_data/HuData_Feb19' #HuData_April16'\n",
    "os.listdir(bao_data_path)"
   ]
  },
  {
   "cell_type": "code",
   "execution_count": 3,
   "metadata": {},
   "outputs": [
    {
     "name": "stdout",
     "output_type": "stream",
     "text": [
      "Reading cls015-200z_r26.8.bins\n",
      "26.8\n",
      "Reading cls015-200z_r26.8.txt\n",
      "26.8\n"
     ]
    }
   ],
   "source": [
    "ell = OrderedDict()\n",
    "wBAO_cls = OrderedDict()\n",
    "surfNumDensity = OrderedDict()\n",
    "shot_noise = OrderedDict()\n",
    "\n",
    "for file in [f for f in os.listdir(bao_data_path) if f.__contains__('26.8')]:\n",
    "    print('Reading %s'%file)\n",
    "    mag_key = file.split('_')[-1]\n",
    "    if file.__contains__('bins'):\n",
    "        mag_key = mag_key.split('.bins')[0]\n",
    "    else:\n",
    "        mag_key = mag_key.split('.txt')[0]\n",
    "    mag_key = mag_key.split('r')[1]\n",
    "    print(mag_key)\n",
    "    \n",
    "    # read in the data into usable structures\n",
    "    if mag_key not in ell:\n",
    "        ell[mag_key] = []\n",
    "        wBAO_cls[mag_key] = OrderedDict()\n",
    "        wBAO_cls[mag_key]['0.15<z<0.37'] = []\n",
    "        wBAO_cls[mag_key]['0.37<z<0.66'] = []\n",
    "        wBAO_cls[mag_key]['0.66<z<1.0'] = []\n",
    "        wBAO_cls[mag_key]['1.0<z<1.5'] = []\n",
    "        wBAO_cls[mag_key]['1.5<z<2.0'] = []\n",
    "\n",
    "        surfNumDensity[mag_key] = OrderedDict()\n",
    "        shot_noise[mag_key] = OrderedDict()\n",
    "        \n",
    "    if file.__contains__('bins'):\n",
    "        shot_noise_data = np.genfromtxt('%s/%s'%(bao_data_path, file))    # last column is the surface number density of each bin in 1/(sq arcmin)\n",
    "        for j, key in enumerate(wBAO_cls[mag_key].keys()): #range(0,5):\n",
    "            surfNumDensity[mag_key][key] = shot_noise_data[j][5]*1.18*10**7   # convert from 1/sq arcmin to 1/Sr\n",
    "            shot_noise[mag_key][key] = 1/surfNumDensity[mag_key][key]       \n",
    "    else:\n",
    "        bao_data = np.genfromtxt('%s/%s'%(bao_data_path, file))\n",
    "        \n",
    "        for i in range(len(bao_data)):\n",
    "            ell[mag_key].append(bao_data[i][0])        \n",
    "            wBAO_cls[mag_key]['0.15<z<0.37'].append(bao_data[i][1])\n",
    "            wBAO_cls[mag_key]['0.37<z<0.66'].append(bao_data[i][3])\n",
    "            wBAO_cls[mag_key]['0.66<z<1.0'].append(bao_data[i][5])\n",
    "            wBAO_cls[mag_key]['1.0<z<1.5'].append(bao_data[i][7])\n",
    "            wBAO_cls[mag_key]['1.5<z<2.0'].append(bao_data[i][9])\n",
    "\n",
    "ell[mag_key] = np.array(ell[mag_key])"
   ]
  },
  {
   "cell_type": "code",
   "execution_count": 4,
   "metadata": {},
   "outputs": [
    {
     "name": "stdout",
     "output_type": "stream",
     "text": [
      "['0.37<z<0.66', '1.5<z<2.0']\n"
     ]
    }
   ],
   "source": [
    "# Drop the non-useable bins\n",
    "wanted = ['0.15<z<0.37', '0.66<z<1.0', '1.0<z<1.5']\n",
    "\n",
    "unwanted = [f for f in wBAO_cls[mag_key].keys() if f not in wanted]\n",
    "print(unwanted)\n",
    "\n",
    "for mag_key in wBAO_cls:\n",
    "    for z_key in unwanted:\n",
    "        wBAO_cls[mag_key].pop(z_key)\n",
    "        shot_noise[mag_key].pop(z_key)     "
   ]
  },
  {
   "cell_type": "code",
   "execution_count": 5,
   "metadata": {},
   "outputs": [
    {
     "data": {
      "text/plain": [
       "OrderedDict([('26.8',\n",
       "              OrderedDict([('0.15<z<0.37', 1.8950809382818345e-08),\n",
       "                           ('0.66<z<1.0', 7.219397850614942e-09),\n",
       "                           ('1.0<z<1.5', 9.6579584705285171e-09)]))])"
      ]
     },
     "execution_count": 5,
     "metadata": {},
     "output_type": "execute_result"
    }
   ],
   "source": [
    "shot_noise"
   ]
  },
  {
   "cell_type": "code",
   "execution_count": 6,
   "metadata": {},
   "outputs": [
    {
     "data": {
      "image/png": "[encoded data removed]",
      "text/plain": [
       "<matplotlib.figure.Figure at 0x2ae92255fc88>"
      ]
     },
     "metadata": {},
     "output_type": "display_data"
    }
   ],
   "source": [
    "# set up for plots\n",
    "fontsize = 14\n",
    "\n",
    "plotcolor={}\n",
    "plotcolor['0.15<z<0.37']= 'r'\n",
    "plotcolor['0.37<z<0.66']= 'g'\n",
    "plotcolor['0.66<z<1.0']= 'b'\n",
    "plotcolor['1.0<z<1.5']= 'c'\n",
    "plotcolor['1.5<z<2.0']= 'k'\n",
    "\n",
    "# plot C_ell. with and without the shot noise.\n",
    "\n",
    "for mag_key in wBAO_cls:\n",
    "    plt.clf()\n",
    "    for z_key in wBAO_cls[mag_key]:\n",
    "        plt.plot(ell[mag_key], wBAO_cls[mag_key][z_key], label=z_key, color=plotcolor[z_key], lw=1)\n",
    "        plt.plot(ell[mag_key], wBAO_cls[mag_key][z_key] + shot_noise[mag_key][z_key],\n",
    "                 color=plotcolor[z_key], linestyle=':', lw=2, label='w/ shotnoise')\n",
    "        \n",
    "    plt.title('r<%s'%mag_key)\n",
    "    plt.legend(loc=0, fontsize=fontsize-2)\n",
    "    plt.xlim(0,500)\n",
    "    plt.xlabel('$\\ell$', fontsize=fontsize)\n",
    "    plt.ylabel('C$_\\ell$',  fontsize=fontsize)\n",
    "    plt.tick_params(axis='x', labelsize=fontsize)\n",
    "    plt.tick_params(axis='y', labelsize=fontsize)\n",
    "\n",
    "    plt.gca().ticklabel_format(style='sci',scilimits=(-3,4),axis='y')\n",
    "    plt.show()"
   ]
  },
  {
   "cell_type": "markdown",
   "metadata": {},
   "source": [
    "**Some Theory**\n",
    "\n",
    "Expected power spectrum: \n",
    "\n",
    "$\\left<C_\\ell\\right>= C_{\\ell, LSS}+\\frac{1}{\\eta}$ where $\\eta$ is the surface number density per Sr.\n",
    "\n",
    "Minimum variance is given by\n",
    "\n",
    "$(\\Delta C_\\ell)^2 = \\frac{2}{2\\ell+1} \\left<C_\\ell\\right>^2$"
   ]
  },
  {
   "cell_type": "code",
   "execution_count": 7,
   "metadata": {},
   "outputs": [],
   "source": [
    "fsky = 0.394568125407  #  based on RandomFPV i band completeness map after 10yrs"
   ]
  },
  {
   "cell_type": "code",
   "execution_count": 8,
   "metadata": {},
   "outputs": [
    {
     "data": {
      "image/png": "[encoded data removed]",
      "text/plain": [
       "<matplotlib.figure.Figure at 0x2ae924bfc860>"
      ]
     },
     "metadata": {},
     "output_type": "display_data"
    }
   ],
   "source": [
    "for mag_key in wBAO_cls:\n",
    "    plt.clf()\n",
    "    for z_key in wBAO_cls[mag_key]:\n",
    "        expected_cl = wBAO_cls[mag_key][z_key] + shot_noise[mag_key][z_key]\n",
    "        min_var = np.sqrt(2/(ell[mag_key]+1.))*expected_cl\n",
    "        \n",
    "        plt.plot(ell[mag_key], min_var, color=plotcolor[z_key], label=z_key, )\n",
    "        \n",
    "    plt.title('r<%s'%mag_key)\n",
    "    plt.legend(loc=0, fontsize=fontsize-2)\n",
    "    plt.xlim(0,500)\n",
    "    plt.xlabel('$\\ell$', fontsize=fontsize)\n",
    "    plt.ylabel('$\\Delta C_\\ell$',  fontsize=fontsize)\n",
    "    plt.tick_params(axis='x', labelsize=fontsize)\n",
    "    plt.tick_params(axis='y', labelsize=fontsize)\n",
    "\n",
    "    plt.gca().ticklabel_format(style='sci',scilimits=(-3,4),axis='y')\n",
    "    plt.show()"
   ]
  },
  {
   "cell_type": "code",
   "execution_count": 9,
   "metadata": {},
   "outputs": [
    {
     "data": {
      "image/png": "[encoded data removed]",
      "text/plain": [
       "<matplotlib.figure.Figure at 0x2ae924c874e0>"
      ]
     },
     "metadata": {},
     "output_type": "display_data"
    }
   ],
   "source": [
    "# combine stuff\n",
    "for mag_key in wBAO_cls:\n",
    "    fig, axes = plt.subplots(nrows=1, ncols=3)\n",
    "    fig.subplots_adjust(top=0.85, wspace=0.15)\n",
    "    \n",
    "    for i, z_key in enumerate(wBAO_cls[mag_key]):\n",
    "        axes[i].plot(ell[mag_key], wBAO_cls[mag_key][z_key], lw=1,\n",
    "                     label='$C_{\\ell, LSS}$', color=plotcolor[z_key])\n",
    "        \n",
    "        expected_cl = wBAO_cls[mag_key][z_key] + shot_noise[mag_key][z_key]\n",
    "        #axes[i].plot(ell[mag_key], expected_cl, linestyle=':', lw=2, label='$<C_{\\ell}>$', color=plotcolor[z_key])\n",
    "        \n",
    "        min_var = np.sqrt(2/(ell[mag_key]+1.))*expected_cl\n",
    "        \n",
    "        axes[i].plot(ell[mag_key], min_var, color=plotcolor[z_key], label= '$\\Delta C_{\\ell}$', linestyle = '-.')\n",
    "        \n",
    "        axes[i].set_title('%s'%(z_key), fontsize=fontsize-2)\n",
    "        axes[i].legend(loc=0, fontsize=fontsize-2)\n",
    "        axes[i].set_xlim(0,500)\n",
    "        axes[i].set_xlabel('$\\ell$', fontsize=fontsize)\n",
    "        axes[i].tick_params(axis='x', labelsize=fontsize)\n",
    "        axes[i].tick_params(axis='y', labelsize=fontsize)\n",
    "        axes[i].ticklabel_format(style='sci',scilimits=(-3,4),axis='y')\n",
    "    \n",
    "    fig = plt.gcf()\n",
    "    fig.set_size_inches(20, 5)\n",
    "    \n",
    "    plt.suptitle('$r$<%s'%(mag_key), fontsize=fontsize+2)\n",
    "    plt.show()"
   ]
  },
  {
   "cell_type": "raw",
   "metadata": {},
   "source": [
    "wanted_ells = [150., 200., 250., 300.]\n",
    "for mag_key in wBAO_cls:\n",
    "    for z_key in wBAO_cls[mag_key]:\n",
    "        print('\\n| | %s |'%z_key)\n",
    "        print(' -------- | -------- | -------- | --------')\n",
    "        expected_cl = wBAO_cls[mag_key][z_key] + shot_noise[mag_key][z_key]\n",
    "        min_var = np.sqrt(2/(ell[mag_key]+1.))*expected_cl\n",
    "        \n",
    "        print(r'$\\ell$ | $C_{\\ell, LSS}$ | $\\left< C_\\ell \\right>$ | $\\Delta C_\\ell$')\n",
    "        #print(' -------- | -------- | -------- | --------')\n",
    "        for l in wanted_ells:\n",
    "            p = ''\n",
    "            ind = np.where(ell[mag_key]==l)[0][0]\n",
    "            #print(ind)\n",
    "            p += '%.f'%l \n",
    "            p += '| %.2e'%wBAO_cls[mag_key][z_key][ind]\n",
    "            p += '| %.2e'%expected_cl[ind]\n",
    "            p += '| %.2e'%min_var[ind]\n",
    "            print(p)"
   ]
  },
  {
   "cell_type": "markdown",
   "metadata": {},
   "source": [
    "**Look at $\\ell$=200 only**"
   ]
  },
  {
   "cell_type": "code",
   "execution_count": 10,
   "metadata": {},
   "outputs": [
    {
     "name": "stdout",
     "output_type": "stream",
     "text": [
      "\n",
      "| . | 0.15<z<0.37 | . | . \n",
      " -------- | -------- | -------- | --------\n",
      "| $\\Delta z$ | $C_{\\ell, LSS}$ | $1/\\eta$ | $\\Delta C_\\ell$\n",
      "Continuum selected | 0.22 | 2.74e-06 | 1.90e-08 | 2.75e-07 \n",
      "\n",
      "| . | 0.66<z<1.0 | . | . \n",
      " -------- | -------- | -------- | --------\n",
      "| $\\Delta z$ | $C_{\\ell, LSS}$ | $1/\\eta$ | $\\Delta C_\\ell$\n",
      "Continuum selected | 0.34 | 1.64e-06 | 7.22e-09 | 1.64e-07 \n",
      "\n",
      "| . | 1.0<z<1.5 | . | . \n",
      " -------- | -------- | -------- | --------\n",
      "| $\\Delta z$ | $C_{\\ell, LSS}$ | $1/\\eta$ | $\\Delta C_\\ell$\n",
      "Continuum selected | 0.50 | 1.58e-06 | 9.66e-09 | 1.59e-07 \n"
     ]
    }
   ],
   "source": [
    "# markdown output for continuum sample: del_z is just the difference betewen bin edges\n",
    "wanted_ells = [200.]\n",
    "for mag_key in wBAO_cls:\n",
    "    for z_key in wBAO_cls[mag_key]:\n",
    "        print('\\n| . | %s | . | . '%z_key)\n",
    "        print(' -------- | -------- | -------- | --------')\n",
    "        expected_cl = np.array(wBAO_cls[mag_key][z_key]) + shot_noise[mag_key][z_key]\n",
    "        min_var = np.sqrt(2/(ell[mag_key]+1.))*expected_cl\n",
    "        \n",
    "        print(r'| $\\Delta z$ | $C_{\\ell, LSS}$ | $1/\\eta$ | $\\Delta C_\\ell$')\n",
    "        #print(' -------- | -------- | -------- | --------')\n",
    "        for l in wanted_ells:\n",
    "            p = ''\n",
    "            ind = np.where(ell[mag_key]==l)[0][0]\n",
    "            #print(ind)\n",
    "            #p += '%.f'%l \n",
    "            p += 'Continuum selected '\n",
    "            split = z_key.split('<')\n",
    "            p += '| %.2f '%(float(split[-1])-float(split[0]))\n",
    "            p += '| %.2e '%wBAO_cls[mag_key][z_key][ind]\n",
    "            #p += '| %.2e'%expected_cl[ind]\n",
    "            p += '| %.2e '%shot_noise[mag_key][z_key]\n",
    "            p += '| %.2e '%min_var[ind]\n",
    "            print(p)"
   ]
  },
  {
   "cell_type": "markdown",
   "metadata": {},
   "source": [
    "**Estimate EELs-shotnoise based on the surface number densities from Lana:**\n",
    "\n",
    "OII: z=1.33: $\\eta$= 3994020.41058, $\\Delta z$= 0.2742\n",
    "\n",
    "OIII: z=0.74:  $\\eta$=  4817077.43893, $\\Delta z$= 0.2041\n",
    "\n",
    "Halpha: z=0.33:  $\\eta$=  8933569.52924, $\\Delta z$= 0.1557\n",
    "\n",
    "Assume  C$_{\\ell,LSS}$ is by $\\Delta z_{continuum}/\\Delta z_{EEL}$ to account for redshift uncertainty.\n",
    "\n"
   ]
  },
  {
   "cell_type": "code",
   "execution_count": 11,
   "metadata": {},
   "outputs": [
    {
     "name": "stdout",
     "output_type": "stream",
     "text": [
      "| . | 1.0<z<1.5 | . | .\n",
      "delz_cont/delz_eel:  1.8234865061998542\n",
      "[OII] | 0.27 | 2.88e-06 | 2.50e-07 | 3.13e-07 \n",
      "\n",
      "| . | 0.66<z<1.0 | . | .\n",
      "delz_cont/delz_eel:  1.6658500734933854\n",
      "[OIII] | 0.20 | 2.73e-06 | 2.08e-07 | 2.93e-07 \n",
      "\n",
      "| . | 0.15<z<0.37 | . | .\n",
      "delz_cont/delz_eel:  1.4129736673089275\n",
      "H$\u0007lpha$ | 0.16 | 3.87e-06 | 1.12e-07 | 3.98e-07 \n",
      "\n"
     ]
    }
   ],
   "source": [
    "shotnoise_EELs = {}\n",
    "shotnoise_EELs['[OII]'], shotnoise_EELs['[OIII]'], shotnoise_EELs['H$\\alpha$']= 1/3994020.41058, 1/4817077.43893, 1/8933569.52924\n",
    "\n",
    "delz_EEL= {}\n",
    "delz_EEL['[OII]'], delz_EEL['[OIII]'], delz_EEL['H$\\alpha$'] = 0.2742, 0.2041, 0.1557\n",
    "\n",
    "# markdown output for EELs\n",
    "for eelKey in shotnoise_EELs:\n",
    "    if eelKey=='[OII]': z_key = '1.0<z<1.5'\n",
    "    if eelKey=='[OIII]': z_key = '0.66<z<1.0'\n",
    "    if eelKey.__contains__('H'): z_key = '0.15<z<0.37'\n",
    "    print('| . | %s | . | .'%z_key)\n",
    "    \n",
    "    split = z_key.split('<')\n",
    "    delz_cont = (float(split[-1])-float(split[0]))\n",
    "    \n",
    "    print('delz_cont/delz_eel: ', delz_cont/delz_EEL[eelKey])\n",
    "    \n",
    "    cl_lss = (delz_cont/delz_EEL[eelKey])*np.array(wBAO_cls[mag_key][z_key])\n",
    "    expected_cl = cl_lss + shotnoise_EELs[eelKey]\n",
    "    min_var = np.sqrt(2/(ell[mag_key]+1.))*expected_cl\n",
    "        \n",
    "    for l in wanted_ells:\n",
    "        p = ''\n",
    "        ind = np.where(ell[mag_key]==l)[0][0]\n",
    "        p += '%s '%eelKey\n",
    "        p += '| %.2f '%delz_EEL[eelKey]\n",
    "        p += '| %.2e '%cl_lss[ind]\n",
    "        p += '| %.2e '%shotnoise_EELs[eelKey]\n",
    "        p += '| %.2e \\n'%min_var[ind]\n",
    "        print(p)"
   ]
  },
  {
   "cell_type": "markdown",
   "metadata": {},
   "source": [
    "**Combine markdown outputs**"
   ]
  },
  {
   "cell_type": "markdown",
   "metadata": {},
   "source": [
    "| . | 0.15<z<0.37 | . | . \n",
    " -------- | -------- | -------- | --------\n",
    "| $\\Delta z$ | $C_{\\ell, LSS}$ | $1/\\eta$ | $\\Delta C_\\ell$\n",
    "Continuum selected | 0.22 | 2.74e-06 | 1.90e-08 | 2.75e-07 \n",
    "H$\\alpha$ | 0.16 | 3.87e-06 | 1.12e-07 | 3.98e-07 \n",
    "\n",
    "| . | 0.66<z<1.0 | . | . \n",
    " -------- | -------- | -------- | --------\n",
    "| $\\Delta z$ | $C_{\\ell, LSS}$ | $1/\\eta$ | $\\Delta C_\\ell$\n",
    "Continuum selected | 0.34 | 1.64e-06 | 7.22e-09 | 1.64e-07 \n",
    "[OIII] | 0.20 | 2.73e-06 | 2.08e-07 | 2.93e-07 \n",
    "\n",
    "| . | 1.0<z<1.5 | . | . \n",
    " -------- | -------- | -------- | --------\n",
    "| $\\Delta z$ | $C_{\\ell, LSS}$ | $1/\\eta$ | $\\Delta C_\\ell$\n",
    "Continuum selected | 0.50 | 1.58e-06 | 9.66e-09 | 1.59e-07 \n",
    "[OII] | 0.27 | 2.88e-06 | 2.50e-07 | 3.13e-07 "
   ]
  },
  {
   "cell_type": "code",
   "execution_count": null,
   "metadata": {},
   "outputs": [],
   "source": []
  },
  {
   "cell_type": "raw",
   "metadata": {},
   "source": []
  },
  {
   "cell_type": "code",
   "execution_count": null,
   "metadata": {},
   "outputs": [],
   "source": []
  }
 ],
 "metadata": {
  "kernelspec": {
   "display_name": "lsst",
   "language": "python",
   "name": "lsst"
  },
  "language_info": {
   "codemirror_mode": {
    "name": "ipython",
    "version": 3
   },
   "file_extension": ".py",
   "mimetype": "text/x-python",
   "name": "python",
   "nbconvert_exporter": "python",
   "pygments_lexer": "ipython3",
   "version": "3.6.2"
  }
 },
 "nbformat": 4,
 "nbformat_minor": 2
}
